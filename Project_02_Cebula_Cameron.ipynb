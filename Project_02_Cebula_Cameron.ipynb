{
 "cells": [
  {
   "cell_type": "markdown",
   "metadata": {},
   "source": [
    "# ECE 697AM - Project 2\n",
    "# Name: Cameron Cebula"
   ]
  },
  {
   "cell_type": "markdown",
   "metadata": {},
   "source": [
    "This project has two parts. In the first part, you are asked to train and compare classifiers on a given dataset. In the second part, you are asked to find and prepare your own dataset and train suitable classifier.\n",
    "\n",
    "The API reference for scikit-learn is available at: https://scikit-learn.org/stable/modules/classes.html"
   ]
  },
  {
   "cell_type": "markdown",
   "metadata": {},
   "source": [
    "# Part 1: Health Dataset\n",
    "\n",
    "## Part 1-1: Loading Data\n",
    "\n",
    "This part of the project uses a biomechanical dataset. The dataset is from https://www.kaggle.com/caesarlupum/vertebralcolumndataset Please see that website for a detailed description of the data. The data represents biomechanical features, which could be measured by a embedded medical system, to classify orthopaedic patients according to the condition of their spine. Being able to predict the correct classes based on these biomedical features might help in treating patients or avoiding more invasive tests. "
   ]
  },
  {
   "cell_type": "code",
   "execution_count": 1,
   "metadata": {},
   "outputs": [],
   "source": [
    "# Python ≥3.5 is required\n",
    "import sys\n",
    "assert sys.version_info >= (3, 5)\n",
    "\n",
    "# Scikit-Learn ≥0.20 is required\n",
    "import sklearn\n",
    "assert sklearn.__version__ >= \"0.20\"\n",
    "\n",
    "# Common imports\n",
    "import numpy as np\n",
    "import os\n",
    "\n",
    "# To plot pretty figures\n",
    "%matplotlib inline\n",
    "import matplotlib as mpl\n",
    "import matplotlib.pyplot as plt\n",
    "mpl.rc('axes', labelsize=14)\n",
    "mpl.rc('xtick', labelsize=12)\n",
    "mpl.rc('ytick', labelsize=12)\n",
    "\n",
    "def save_fig(fig_id, tight_layout=True, fig_extension=\"png\", resolution=300):\n",
    "    path = os.path.join(\"images\", fig_id + \".\" + fig_extension)\n",
    "    print(\"Saving figure\", fig_id)\n",
    "    if tight_layout:\n",
    "        plt.tight_layout()\n",
    "    plt.savefig(path, format=fig_extension, dpi=resolution)\n",
    "\n",
    "# Ignore useless warnings (see SciPy issue #5998)\n",
    "import warnings\n",
    "warnings.filterwarnings(action=\"ignore\", message=\"^internal gelsd\")"
   ]
  },
  {
   "cell_type": "markdown",
   "metadata": {},
   "source": [
    "The following shows some basic information about the dataset."
   ]
  },
  {
   "cell_type": "code",
   "execution_count": 2,
   "metadata": {},
   "outputs": [
    {
     "data": {
      "text/html": [
       "<div>\n",
       "<style scoped>\n",
       "    .dataframe tbody tr th:only-of-type {\n",
       "        vertical-align: middle;\n",
       "    }\n",
       "\n",
       "    .dataframe tbody tr th {\n",
       "        vertical-align: top;\n",
       "    }\n",
       "\n",
       "    .dataframe thead th {\n",
       "        text-align: right;\n",
       "    }\n",
       "</style>\n",
       "<table border=\"1\" class=\"dataframe\">\n",
       "  <thead>\n",
       "    <tr style=\"text-align: right;\">\n",
       "      <th></th>\n",
       "      <th>pelvic_incidence</th>\n",
       "      <th>pelvic_tilt</th>\n",
       "      <th>lumbar_lordosis_angle</th>\n",
       "      <th>sacral_slope</th>\n",
       "      <th>pelvic_radius</th>\n",
       "      <th>degree_spondylolisthesis</th>\n",
       "      <th>class</th>\n",
       "    </tr>\n",
       "  </thead>\n",
       "  <tbody>\n",
       "    <tr>\n",
       "      <th>0</th>\n",
       "      <td>63.027817</td>\n",
       "      <td>22.552586</td>\n",
       "      <td>39.609117</td>\n",
       "      <td>40.475232</td>\n",
       "      <td>98.672917</td>\n",
       "      <td>-0.254400</td>\n",
       "      <td>Hernia</td>\n",
       "    </tr>\n",
       "    <tr>\n",
       "      <th>1</th>\n",
       "      <td>39.056951</td>\n",
       "      <td>10.060991</td>\n",
       "      <td>25.015378</td>\n",
       "      <td>28.995960</td>\n",
       "      <td>114.405425</td>\n",
       "      <td>4.564259</td>\n",
       "      <td>Hernia</td>\n",
       "    </tr>\n",
       "    <tr>\n",
       "      <th>2</th>\n",
       "      <td>68.832021</td>\n",
       "      <td>22.218482</td>\n",
       "      <td>50.092194</td>\n",
       "      <td>46.613539</td>\n",
       "      <td>105.985135</td>\n",
       "      <td>-3.530317</td>\n",
       "      <td>Hernia</td>\n",
       "    </tr>\n",
       "    <tr>\n",
       "      <th>3</th>\n",
       "      <td>69.297008</td>\n",
       "      <td>24.652878</td>\n",
       "      <td>44.311238</td>\n",
       "      <td>44.644130</td>\n",
       "      <td>101.868495</td>\n",
       "      <td>11.211523</td>\n",
       "      <td>Hernia</td>\n",
       "    </tr>\n",
       "    <tr>\n",
       "      <th>4</th>\n",
       "      <td>49.712859</td>\n",
       "      <td>9.652075</td>\n",
       "      <td>28.317406</td>\n",
       "      <td>40.060784</td>\n",
       "      <td>108.168725</td>\n",
       "      <td>7.918501</td>\n",
       "      <td>Hernia</td>\n",
       "    </tr>\n",
       "  </tbody>\n",
       "</table>\n",
       "</div>"
      ],
      "text/plain": [
       "   pelvic_incidence  pelvic_tilt  lumbar_lordosis_angle  sacral_slope  \\\n",
       "0         63.027817    22.552586              39.609117     40.475232   \n",
       "1         39.056951    10.060991              25.015378     28.995960   \n",
       "2         68.832021    22.218482              50.092194     46.613539   \n",
       "3         69.297008    24.652878              44.311238     44.644130   \n",
       "4         49.712859     9.652075              28.317406     40.060784   \n",
       "\n",
       "   pelvic_radius  degree_spondylolisthesis   class  \n",
       "0      98.672917                 -0.254400  Hernia  \n",
       "1     114.405425                  4.564259  Hernia  \n",
       "2     105.985135                 -3.530317  Hernia  \n",
       "3     101.868495                 11.211523  Hernia  \n",
       "4     108.168725                  7.918501  Hernia  "
      ]
     },
     "execution_count": 2,
     "metadata": {},
     "output_type": "execute_result"
    }
   ],
   "source": [
    "import pandas as pd\n",
    "\n",
    "bio_data = pd.read_csv(os.path.join(\"datasets\",\"biomechanical\",\"biomechanical_3C.csv\"))\n",
    "bio_data.head()"
   ]
  },
  {
   "cell_type": "code",
   "execution_count": 3,
   "metadata": {},
   "outputs": [
    {
     "name": "stdout",
     "output_type": "stream",
     "text": [
      "<class 'pandas.core.frame.DataFrame'>\n",
      "RangeIndex: 310 entries, 0 to 309\n",
      "Data columns (total 7 columns):\n",
      " #   Column                    Non-Null Count  Dtype  \n",
      "---  ------                    --------------  -----  \n",
      " 0   pelvic_incidence          310 non-null    float64\n",
      " 1   pelvic_tilt               310 non-null    float64\n",
      " 2   lumbar_lordosis_angle     310 non-null    float64\n",
      " 3   sacral_slope              310 non-null    float64\n",
      " 4   pelvic_radius             310 non-null    float64\n",
      " 5   degree_spondylolisthesis  310 non-null    float64\n",
      " 6   class                     310 non-null    object \n",
      "dtypes: float64(6), object(1)\n",
      "memory usage: 17.1+ KB\n"
     ]
    }
   ],
   "source": [
    "bio_data.info()"
   ]
  },
  {
   "cell_type": "code",
   "execution_count": 4,
   "metadata": {},
   "outputs": [
    {
     "data": {
      "text/html": [
       "<div>\n",
       "<style scoped>\n",
       "    .dataframe tbody tr th:only-of-type {\n",
       "        vertical-align: middle;\n",
       "    }\n",
       "\n",
       "    .dataframe tbody tr th {\n",
       "        vertical-align: top;\n",
       "    }\n",
       "\n",
       "    .dataframe thead th {\n",
       "        text-align: right;\n",
       "    }\n",
       "</style>\n",
       "<table border=\"1\" class=\"dataframe\">\n",
       "  <thead>\n",
       "    <tr style=\"text-align: right;\">\n",
       "      <th></th>\n",
       "      <th>pelvic_incidence</th>\n",
       "      <th>pelvic_tilt</th>\n",
       "      <th>lumbar_lordosis_angle</th>\n",
       "      <th>sacral_slope</th>\n",
       "      <th>pelvic_radius</th>\n",
       "      <th>degree_spondylolisthesis</th>\n",
       "    </tr>\n",
       "  </thead>\n",
       "  <tbody>\n",
       "    <tr>\n",
       "      <th>count</th>\n",
       "      <td>310.000000</td>\n",
       "      <td>310.000000</td>\n",
       "      <td>310.000000</td>\n",
       "      <td>310.000000</td>\n",
       "      <td>310.000000</td>\n",
       "      <td>310.000000</td>\n",
       "    </tr>\n",
       "    <tr>\n",
       "      <th>mean</th>\n",
       "      <td>60.496653</td>\n",
       "      <td>17.542822</td>\n",
       "      <td>51.930930</td>\n",
       "      <td>42.953831</td>\n",
       "      <td>117.920655</td>\n",
       "      <td>26.296694</td>\n",
       "    </tr>\n",
       "    <tr>\n",
       "      <th>std</th>\n",
       "      <td>17.236520</td>\n",
       "      <td>10.008330</td>\n",
       "      <td>18.554064</td>\n",
       "      <td>13.423102</td>\n",
       "      <td>13.317377</td>\n",
       "      <td>37.559027</td>\n",
       "    </tr>\n",
       "    <tr>\n",
       "      <th>min</th>\n",
       "      <td>26.147921</td>\n",
       "      <td>-6.554948</td>\n",
       "      <td>14.000000</td>\n",
       "      <td>13.366931</td>\n",
       "      <td>70.082575</td>\n",
       "      <td>-11.058179</td>\n",
       "    </tr>\n",
       "    <tr>\n",
       "      <th>25%</th>\n",
       "      <td>46.430294</td>\n",
       "      <td>10.667069</td>\n",
       "      <td>37.000000</td>\n",
       "      <td>33.347122</td>\n",
       "      <td>110.709196</td>\n",
       "      <td>1.603727</td>\n",
       "    </tr>\n",
       "    <tr>\n",
       "      <th>50%</th>\n",
       "      <td>58.691038</td>\n",
       "      <td>16.357689</td>\n",
       "      <td>49.562398</td>\n",
       "      <td>42.404912</td>\n",
       "      <td>118.268178</td>\n",
       "      <td>11.767934</td>\n",
       "    </tr>\n",
       "    <tr>\n",
       "      <th>75%</th>\n",
       "      <td>72.877696</td>\n",
       "      <td>22.120395</td>\n",
       "      <td>63.000000</td>\n",
       "      <td>52.695888</td>\n",
       "      <td>125.467674</td>\n",
       "      <td>41.287352</td>\n",
       "    </tr>\n",
       "    <tr>\n",
       "      <th>max</th>\n",
       "      <td>129.834041</td>\n",
       "      <td>49.431864</td>\n",
       "      <td>125.742385</td>\n",
       "      <td>121.429566</td>\n",
       "      <td>163.071041</td>\n",
       "      <td>418.543082</td>\n",
       "    </tr>\n",
       "  </tbody>\n",
       "</table>\n",
       "</div>"
      ],
      "text/plain": [
       "       pelvic_incidence  pelvic_tilt  lumbar_lordosis_angle  sacral_slope  \\\n",
       "count        310.000000   310.000000             310.000000    310.000000   \n",
       "mean          60.496653    17.542822              51.930930     42.953831   \n",
       "std           17.236520    10.008330              18.554064     13.423102   \n",
       "min           26.147921    -6.554948              14.000000     13.366931   \n",
       "25%           46.430294    10.667069              37.000000     33.347122   \n",
       "50%           58.691038    16.357689              49.562398     42.404912   \n",
       "75%           72.877696    22.120395              63.000000     52.695888   \n",
       "max          129.834041    49.431864             125.742385    121.429566   \n",
       "\n",
       "       pelvic_radius  degree_spondylolisthesis  \n",
       "count     310.000000                310.000000  \n",
       "mean      117.920655                 26.296694  \n",
       "std        13.317377                 37.559027  \n",
       "min        70.082575                -11.058179  \n",
       "25%       110.709196                  1.603727  \n",
       "50%       118.268178                 11.767934  \n",
       "75%       125.467674                 41.287352  \n",
       "max       163.071041                418.543082  "
      ]
     },
     "execution_count": 4,
     "metadata": {},
     "output_type": "execute_result"
    }
   ],
   "source": [
    "bio_data.describe()"
   ]
  },
  {
   "cell_type": "code",
   "execution_count": 5,
   "metadata": {},
   "outputs": [
    {
     "data": {
      "text/html": [
       "<div>\n",
       "<style scoped>\n",
       "    .dataframe tbody tr th:only-of-type {\n",
       "        vertical-align: middle;\n",
       "    }\n",
       "\n",
       "    .dataframe tbody tr th {\n",
       "        vertical-align: top;\n",
       "    }\n",
       "\n",
       "    .dataframe thead th {\n",
       "        text-align: right;\n",
       "    }\n",
       "</style>\n",
       "<table border=\"1\" class=\"dataframe\">\n",
       "  <thead>\n",
       "    <tr style=\"text-align: right;\">\n",
       "      <th></th>\n",
       "      <th>class</th>\n",
       "    </tr>\n",
       "  </thead>\n",
       "  <tbody>\n",
       "    <tr>\n",
       "      <th>count</th>\n",
       "      <td>310</td>\n",
       "    </tr>\n",
       "    <tr>\n",
       "      <th>unique</th>\n",
       "      <td>3</td>\n",
       "    </tr>\n",
       "    <tr>\n",
       "      <th>top</th>\n",
       "      <td>Spondylolisthesis</td>\n",
       "    </tr>\n",
       "    <tr>\n",
       "      <th>freq</th>\n",
       "      <td>150</td>\n",
       "    </tr>\n",
       "  </tbody>\n",
       "</table>\n",
       "</div>"
      ],
      "text/plain": [
       "                    class\n",
       "count                 310\n",
       "unique                  3\n",
       "top     Spondylolisthesis\n",
       "freq                  150"
      ]
     },
     "execution_count": 5,
     "metadata": {},
     "output_type": "execute_result"
    }
   ],
   "source": [
    "bio_data.describe(include = 'object')"
   ]
  },
  {
   "cell_type": "markdown",
   "metadata": {},
   "source": [
    "The ML problem we are tyring to solve is to predict the patient class using the numeric feature inputs. How many input features does this dataset provide?\n",
    "\n",
    "Answer: 6\n",
    "\n",
    "How many classes are represented in this dataset?\n",
    "\n",
    "Answer: 3"
   ]
  },
  {
   "cell_type": "markdown",
   "metadata": {},
   "source": [
    "## Part 1-2: Preparing Data for ML\n",
    "The following code prepares the data for our ML activites."
   ]
  },
  {
   "cell_type": "code",
   "execution_count": 6,
   "metadata": {},
   "outputs": [],
   "source": [
    "X, y = bio_data[[\"pelvic_incidence\", \"pelvic_tilt\", \"lumbar_lordosis_angle\", \n",
    "                 \"sacral_slope\", \"pelvic_radius\", \"degree_spondylolisthesis\"]], bio_data[[\"class\"]]"
   ]
  },
  {
   "cell_type": "code",
   "execution_count": 7,
   "metadata": {},
   "outputs": [],
   "source": [
    "from sklearn.model_selection import train_test_split\n",
    "\n",
    "X_train, X_test, y_train, y_test = train_test_split(X, y, test_size=0.2, random_state=42)"
   ]
  },
  {
   "cell_type": "markdown",
   "metadata": {},
   "source": [
    "Write the code to perform any necessary transformations on the input and output values. Name the outputs of these transformations X_train_tr and y_train_tr."
   ]
  },
  {
   "cell_type": "code",
   "execution_count": 8,
   "metadata": {},
   "outputs": [],
   "source": [
    "from sklearn.pipeline import Pipeline\n",
    "from sklearn.preprocessing import StandardScaler, LabelEncoder\n",
    "\n",
    "num_pipeline = Pipeline([  # sets the pipeline\n",
    "    ('scaler', StandardScaler())\n",
    "])\n",
    "\n",
    "X_train_tr = num_pipeline.fit_transform(X_train) # feeding X training data through the pipeline\n",
    "y_train_tr = np.ravel(y_train) # turning y_train to a 1-d data type so the LabelEncoder function can manipulate the data.\n",
    "encoder = LabelEncoder() # Instantiates encoder\n",
    "y_train_tr = encoder.fit_transform(y_train_tr) # transfroms y_train the 1-d array of y_train "
   ]
  },
  {
   "cell_type": "markdown",
   "metadata": {},
   "source": [
    "Print the first few rows of X_train_tr and y_train_tr."
   ]
  },
  {
   "cell_type": "code",
   "execution_count": 9,
   "metadata": {},
   "outputs": [
    {
     "data": {
      "text/plain": [
       "array([[ 0.63294865,  0.50768964,  0.44692756,  0.4488586 , -1.18307392,\n",
       "         0.06411647],\n",
       "       [ 0.51156455, -0.18942352,  0.66256327,  0.79334738,  0.43550848,\n",
       "         0.37020317],\n",
       "       [-0.59323076, -0.01528651, -1.30700744, -0.75132401,  0.27734871,\n",
       "        -0.61408236],\n",
       "       [-1.30464185, -0.78903278, -0.51950982, -1.11000088,  1.41110088,\n",
       "        -0.3058508 ],\n",
       "       [ 0.96448544,  2.63721882,  2.365255  , -0.65393538,  1.13580229,\n",
       "         1.98657685],\n",
       "       [ 0.44096165,  0.05907199,  0.50112312,  0.52422484, -0.53988201,\n",
       "         0.20415929],\n",
       "       [-0.28430751, -2.17293154,  0.2679878 ,  1.19464247, -0.63566818,\n",
       "         0.1679128 ],\n",
       "       [-0.69432443, -0.20537298, -0.88149532, -0.74476326,  0.485064  ,\n",
       "        -0.45604544]])"
      ]
     },
     "execution_count": 9,
     "metadata": {},
     "output_type": "execute_result"
    }
   ],
   "source": [
    "X_train_tr[:8]  # printing 8 values from the transformed x_train"
   ]
  },
  {
   "cell_type": "code",
   "execution_count": 10,
   "metadata": {
    "scrolled": true
   },
   "outputs": [
    {
     "data": {
      "text/plain": [
       "array([2, 2, 1, 1, 2, 2, 2, 0])"
      ]
     },
     "execution_count": 10,
     "metadata": {},
     "output_type": "execute_result"
    }
   ],
   "source": [
    "y_train_tr[:8] # printing 8 values from the transformed y_train"
   ]
  },
  {
   "cell_type": "markdown",
   "metadata": {},
   "source": [
    "## Part 1-3: Train ML Models\n",
    "In this part, write the code to train three ML models. For each model you should explore the impact of a regularization parameter. The models and the parameter are:\n",
    "\n",
    "* Logistic Regression Classifier (LogisticRegression): vary parameter C\n",
    "* Support Vector Machine Classifier (SVC): vary parameter C (you may choose any one kernel function)\n",
    "* Random Forest Classifier (RandomForestClassifier): vary parameter min_samples_leaf\n",
    "\n",
    "For each classifier, use a grid search with cross validation (GridSearchCV) to find a good value for the specified parameter. Please name your classifiers sgd_clf, svc_clf, and forest_clf, respectively. For each classifier provide the following:\n",
    "\n",
    "* Plot a figure showing the grid search score (mean_test_score) vs. the parameter value\n",
    "* Print the best paramter value\n",
    "* Print the score (mean_test_score) achieved for the best parameter value\n",
    "* Print the F1 score for the complete training set (note that sklearn.metrics.f1_score automatically handles multiclass classification)\n",
    "\n",
    "Note: In order to show evidence that you found a good parameter, you should show a figure that has a \"peak\" in it. That is, the range of your paramter should be sufficiently large so that it is apparent that the best parameter is indeed an optimum.\n",
    "\n",
    "You may use the following function for the plot or write your own."
   ]
  },
  {
   "cell_type": "code",
   "execution_count": 11,
   "metadata": {},
   "outputs": [],
   "source": [
    "def plot_score(clf, parameter):\n",
    "    scores_mean = clf.cv_results_[('mean_test_score')]\n",
    "    plt.style.use('seaborn-v0_8')\n",
    "    plt.plot(clf.param_grid[parameter], scores_mean, '-o')\n",
    "\n",
    "    plt.title(\"Grid Search\", fontsize=20, fontweight='normal')\n",
    "    plt.xlabel(parameter, fontsize=16)\n",
    "    plt.ylabel('score', fontsize=16)"
   ]
  },
  {
   "cell_type": "markdown",
   "metadata": {},
   "source": [
    "The function is invoked with plot_score(clf, 'X'), where clf is the grid search classifier and 'X' is the name of the parameter that was used in the grid search."
   ]
  },
  {
   "cell_type": "markdown",
   "metadata": {},
   "source": [
    "### Logistic Regression Classifier"
   ]
  },
  {
   "cell_type": "code",
   "execution_count": 12,
   "metadata": {},
   "outputs": [
    {
     "name": "stdout",
     "output_type": "stream",
     "text": [
      "Best Parameter: {'C': 1000}\n",
      "Best Score: 0.879265306122449\n",
      "F1 Score: 0.8738387377732824\n"
     ]
    },
    {
     "data": {
      "image/png": "[encoded data removed]",
      "text/plain": [
       "<Figure size 800x550 with 1 Axes>"
      ]
     },
     "metadata": {},
     "output_type": "display_data"
    }
   ],
   "source": [
    "from sklearn.linear_model import LogisticRegression\n",
    "from sklearn.model_selection import GridSearchCV\n",
    "from sklearn.metrics import f1_score\n",
    "\n",
    "log_reg = LogisticRegression(solver=\"liblinear\", random_state=42) # Instantiating Log Reg\n",
    "param_grid = { 'C': [0.001, 0.01, 1, 10, 100, 1000, 2000, 4000] } # creating a set \n",
    "sgd_clf = GridSearchCV(log_reg, param_grid, cv=5, scoring='accuracy')\n",
    "sgd_clf.fit(X_train_tr, y_train_tr) # Fitting logistic regression with best parameter\n",
    "\n",
    "C_log = sgd_clf.best_params_ # finding best param\n",
    "plot_score(sgd_clf, 'C') # plotting with best param\n",
    "\n",
    "print(\"Best Parameter:\", C_log) # printing the best param\n",
    "print(\"Best Score:\", sgd_clf.best_score_) # printing best score\n",
    "y_pred_log = sgd_clf.predict(X_train_tr) # getting the predicted y value for F1 score\n",
    "print(\"F1 Score:\", f1_score(y_train_tr, y_pred_log, average=\"weighted\")) # finding and printing the F1 score for Logistic Regression"
   ]
  },
  {
   "cell_type": "markdown",
   "metadata": {},
   "source": [
    "### SVM Classifier"
   ]
  },
  {
   "cell_type": "code",
   "execution_count": 13,
   "metadata": {},
   "outputs": [
    {
     "name": "stdout",
     "output_type": "stream",
     "text": [
      "Best Parameter: {'C': 2}\n",
      "Best Score: 0.830857142857143\n",
      "F1 Score: 0.8839256193062406\n"
     ]
    },
    {
     "data": {
      "image/png": "[encoded data removed]",
      "text/plain": [
       "<Figure size 800x550 with 1 Axes>"
      ]
     },
     "metadata": {},
     "output_type": "display_data"
    }
   ],
   "source": [
    "from sklearn.svm import SVC\n",
    "\n",
    "svc = SVC() # Instantiating SVC\n",
    "param_grid = { 'C': [0.001, 0.01, 1, 2, 3, 4, 6, 8, 10] } # creating a set \n",
    "svc_clf = GridSearchCV(svc, param_grid, cv=5, scoring='accuracy')\n",
    "svc_clf.fit(X_train_tr, y_train_tr) # Fitting SVC with best parameter\n",
    "C_svm = svc_clf.best_params_ # finding best param\n",
    "plot_score(svc_clf, 'C') # plotting with best param\n",
    "print(\"Best Parameter:\", C_svm) # printing the best param\n",
    "print(\"Best Score:\", svc_clf.best_score_) # printing best score\n",
    "y_pred_svc = svc_clf.predict(X_train_tr) # getting the predicted y value for F1 score\n",
    "print(\"F1 Score:\", f1_score(y_train_tr, y_pred_svc, average=\"weighted\")) # finding and printing the F1 score for SVC"
   ]
  },
  {
   "cell_type": "markdown",
   "metadata": {},
   "source": [
    "### Random Forest Classifier"
   ]
  },
  {
   "cell_type": "code",
   "execution_count": 14,
   "metadata": {},
   "outputs": [
    {
     "name": "stdout",
     "output_type": "stream",
     "text": [
      "Best Parameter: {'min_samples_leaf': 2}\n",
      "Best Score: 0.850938775510204\n",
      "F1 Score: 0.9878451922982289\n"
     ]
    },
    {
     "data": {
      "image/png": "[encoded data removed]",
      "text/plain": [
       "<Figure size 800x550 with 1 Axes>"
      ]
     },
     "metadata": {},
     "output_type": "display_data"
    }
   ],
   "source": [
    "from sklearn.ensemble import RandomForestClassifier\n",
    "\n",
    "rfc = RandomForestClassifier(random_state=42) # Instantiating Log Reg\n",
    "param_grid = { 'min_samples_leaf': [1, 2, 3, 4, 5, 6, 7, 8, 9, 10] } # creating a set \n",
    "forest_clf = GridSearchCV(rfc, param_grid, cv=5, scoring='accuracy')\n",
    "forest_clf.fit(X_train_tr, y_train_tr) # Fitting logistic regression with best parameter\n",
    "\n",
    "min_samples = forest_clf.best_params_ # finding best param\n",
    "plot_score(forest_clf, 'min_samples_leaf') # plotting with best param\n",
    "\n",
    "print(\"Best Parameter:\", min_samples) # printing the best param\n",
    "print(\"Best Score:\", forest_clf.best_score_) # printing best score\n",
    "y_pred_forest = forest_clf.predict(X_train_tr) # getting the predicted y value for F1 score\n",
    "print(\"F1 Score:\", f1_score(y_train_tr, y_pred_forest, average=\"weighted\")) # finding and printing the F1 score for Forest Classifier"
   ]
  },
  {
   "cell_type": "markdown",
   "metadata": {},
   "source": [
    "## Part 1-4: Evaluation\n",
    "\n",
    "In this part, write the code to evaluate the three ML classifiers that you trained previously. Summarize your results in the table."
   ]
  },
  {
   "cell_type": "code",
   "execution_count": 15,
   "metadata": {},
   "outputs": [
    {
     "name": "stdout",
     "output_type": "stream",
     "text": [
      "### Log Reg Classifier###\n",
      "Best Parameter: {'C': 1000}\n",
      "Best Score: 0.879265306122449\n",
      "F1 Score: 0.8738387377732824\n",
      "\n",
      "\n",
      "### SVM Classifier###\n",
      "Best Parameter: {'C': 2}\n",
      "Best Score: 0.830857142857143\n",
      "F1 Score: 0.8839256193062406\n",
      "\n",
      "\n",
      "### Random Forest Classifier###\n",
      "Best Parameter: {'min_samples_leaf': 2}\n",
      "Best Score: 0.850938775510204\n",
      "F1 Score: 0.9878451922982289\n"
     ]
    }
   ],
   "source": [
    "print(\"### Log Reg Classifier###\")\n",
    "print(\"Best Parameter:\", C_log) # printing the best param\n",
    "print(\"Best Score:\", sgd_clf.best_score_) # printing best score\n",
    "y_pred_log = sgd_clf.predict(X_train_tr) # getting the predicted y value for F1 score\n",
    "print(\"F1 Score:\", f1_score(y_train_tr, y_pred_log, average=\"weighted\")) # finding and printing the F1 score for Logistic Regression\n",
    "\n",
    "print(\"\\n\\n### SVM Classifier###\")\n",
    "print(\"Best Parameter:\", C_svm) # printing the best param\n",
    "print(\"Best Score:\", svc_clf.best_score_) # printing best score\n",
    "y_pred_svc = svc_clf.predict(X_train_tr) # getting the predicted y value for F1 score\n",
    "print(\"F1 Score:\", f1_score(y_train_tr, y_pred_svc, average=\"weighted\")) # finding and printing the F1 score for SVC\n",
    "\n",
    "print(\"\\n\\n### Random Forest Classifier###\")\n",
    "print(\"Best Parameter:\", min_samples) # printing the best param\n",
    "print(\"Best Score:\", forest_clf.best_score_) # printing best score\n",
    "y_pred_forest = forest_clf.predict(X_train_tr) # getting the predicted y value for F1 score\n",
    "print(\"F1 Score:\", f1_score(y_train_tr, y_pred_forest, average=\"weighted\")) # finding and printing the F1 score for Forest Classifier\n"
   ]
  },
  {
   "cell_type": "markdown",
   "metadata": {},
   "source": [
    "Provide a summary of your results in this table:\n",
    "\n",
    "| ML algorithm                       | best parameter       | training dataset F1 score | test dataset F1 score |\n",
    "| ---------------------------------- | -------------------- | ------------------------- |---------------------- |\n",
    "| Logistic Regression Classifier     |     1000             |          0.87             |           0.88          |\n",
    "| Support Vector Machine Classifier  |       2              |          0.88             |           0.83         |\n",
    "| Random Forest Classifier           |       2              |          0.99             |           0.85          |\n"
   ]
  },
  {
   "cell_type": "markdown",
   "metadata": {},
   "source": [
    "Provide a brief discussion of your results (1-2 sentences for each classifier):\n",
    "\n",
    "The logistic regression classifier is the most accurate classifier having an accuracy with the best parameters .03 more then the second best. The F1 score is also not bad being the 2nd option, having a low f1 score and high accuracy means this classifier's precision and/or recall is lower then the best option.\n",
    "\n",
    "The SVM Classifier is the worst performing as its accuracy is the lowest and an F1 Score about tied with the logistic regression classifier.\n",
    "\n",
    "The Random Forest Classifier is the best performing in most circumstances as its accuracy is relatively good being 3% lower then the Logistic Regression Classifier and has an F1 Score of 0.99 being close to perfect, with perfect being 1.0. "
   ]
  },
  {
   "cell_type": "markdown",
   "metadata": {},
   "source": [
    "# Part 2: Your Dataset\n",
    "## Part 2-1: Find and Perpare Dataset\n",
    "In this part of the project you are asked for find your own suitable dataset for training a classifier or a regressor. The requirements for the dataset are:\n",
    "\n",
    "* The dataset must be available on a public website (e.g., https://www.kaggle.com/datasets, https://archive.ics.uci.edu/ml/, etc.).\n",
    "* The dataset must be suitable for a classification task (binary classification or multiclass classification) or for a regression task. For classification, class labels need to be part of the dataset already. For regression, a numeric value needs to be available for estimation.\n",
    "* The dataset must contain more than 100 instances and no more than 10,000-100,000 instances.\n",
    "* The dataset should have a handful (i.e., not hundreds) of features. Do not use datasets with images or time series."
   ]
  },
  {
   "cell_type": "markdown",
   "metadata": {},
   "source": [
    "What is the URL to the dataset of your choice? \n",
    "\n",
    "Answer: https://www.kaggle.com/datasets/hassaneskikri/online-retail-customer-churn-dataset\n",
    "\n",
    "Provide a brief description of the dataset: \n",
    "\n",
    "Answer: The dataset I chose takes customer demographics, satisfaction levels, spending behavior, and if the customer stopped using the service.\n",
    "\n",
    "Are you using this dataset for classification or for regression?\n",
    "\n",
    "Answer: Classification\n",
    "\n",
    "Describe the classification task or regression task:\n",
    "\n",
    "Answer: Determine if a customer is going to churn based on their behavior and demographic."
   ]
  },
  {
   "cell_type": "markdown",
   "metadata": {},
   "source": [
    "To prepare the dataset, please save the necessary data in a .csv file. What is the name of your data file? \n",
    "\n",
    "Answer: online_retail_customer_churn.csv"
   ]
  },
  {
   "cell_type": "markdown",
   "metadata": {},
   "source": [
    "## Part 2-2: Train ML System\n",
    "Write the code to load the data, prepare the data for your ML task, set up an ML system with an algorithm of your choice, and train the ML system. Note that you may drop features from the dataset if you do not want to use them. During training, explore one parameter to find a good choice for that parameter. Repeat this process for at least one additional ML system that uses a different algorithm."
   ]
  },
  {
   "cell_type": "code",
   "execution_count": 16,
   "metadata": {},
   "outputs": [
    {
     "data": {
      "text/html": [
       "<div>\n",
       "<style scoped>\n",
       "    .dataframe tbody tr th:only-of-type {\n",
       "        vertical-align: middle;\n",
       "    }\n",
       "\n",
       "    .dataframe tbody tr th {\n",
       "        vertical-align: top;\n",
       "    }\n",
       "\n",
       "    .dataframe thead th {\n",
       "        text-align: right;\n",
       "    }\n",
       "</style>\n",
       "<table border=\"1\" class=\"dataframe\">\n",
       "  <thead>\n",
       "    <tr style=\"text-align: right;\">\n",
       "      <th></th>\n",
       "      <th>Customer_ID</th>\n",
       "      <th>Age</th>\n",
       "      <th>Gender</th>\n",
       "      <th>Annual_Income</th>\n",
       "      <th>Total_Spend</th>\n",
       "      <th>Years_as_Customer</th>\n",
       "      <th>Num_of_Purchases</th>\n",
       "      <th>Average_Transaction_Amount</th>\n",
       "      <th>Num_of_Returns</th>\n",
       "      <th>Num_of_Support_Contacts</th>\n",
       "      <th>Satisfaction_Score</th>\n",
       "      <th>Last_Purchase_Days_Ago</th>\n",
       "      <th>Email_Opt_In</th>\n",
       "      <th>Promotion_Response</th>\n",
       "      <th>Target_Churn</th>\n",
       "    </tr>\n",
       "  </thead>\n",
       "  <tbody>\n",
       "    <tr>\n",
       "      <th>0</th>\n",
       "      <td>1</td>\n",
       "      <td>62</td>\n",
       "      <td>Other</td>\n",
       "      <td>45.15</td>\n",
       "      <td>5892.58</td>\n",
       "      <td>5</td>\n",
       "      <td>22</td>\n",
       "      <td>453.80</td>\n",
       "      <td>2</td>\n",
       "      <td>0</td>\n",
       "      <td>3</td>\n",
       "      <td>129</td>\n",
       "      <td>True</td>\n",
       "      <td>Responded</td>\n",
       "      <td>True</td>\n",
       "    </tr>\n",
       "    <tr>\n",
       "      <th>1</th>\n",
       "      <td>2</td>\n",
       "      <td>65</td>\n",
       "      <td>Male</td>\n",
       "      <td>79.51</td>\n",
       "      <td>9025.47</td>\n",
       "      <td>13</td>\n",
       "      <td>77</td>\n",
       "      <td>22.90</td>\n",
       "      <td>2</td>\n",
       "      <td>2</td>\n",
       "      <td>3</td>\n",
       "      <td>227</td>\n",
       "      <td>False</td>\n",
       "      <td>Responded</td>\n",
       "      <td>False</td>\n",
       "    </tr>\n",
       "    <tr>\n",
       "      <th>2</th>\n",
       "      <td>3</td>\n",
       "      <td>18</td>\n",
       "      <td>Male</td>\n",
       "      <td>29.19</td>\n",
       "      <td>618.83</td>\n",
       "      <td>13</td>\n",
       "      <td>71</td>\n",
       "      <td>50.53</td>\n",
       "      <td>5</td>\n",
       "      <td>2</td>\n",
       "      <td>2</td>\n",
       "      <td>283</td>\n",
       "      <td>False</td>\n",
       "      <td>Responded</td>\n",
       "      <td>True</td>\n",
       "    </tr>\n",
       "    <tr>\n",
       "      <th>3</th>\n",
       "      <td>4</td>\n",
       "      <td>21</td>\n",
       "      <td>Other</td>\n",
       "      <td>79.63</td>\n",
       "      <td>9110.30</td>\n",
       "      <td>3</td>\n",
       "      <td>33</td>\n",
       "      <td>411.83</td>\n",
       "      <td>5</td>\n",
       "      <td>3</td>\n",
       "      <td>5</td>\n",
       "      <td>226</td>\n",
       "      <td>True</td>\n",
       "      <td>Ignored</td>\n",
       "      <td>True</td>\n",
       "    </tr>\n",
       "    <tr>\n",
       "      <th>4</th>\n",
       "      <td>5</td>\n",
       "      <td>21</td>\n",
       "      <td>Other</td>\n",
       "      <td>77.66</td>\n",
       "      <td>5390.88</td>\n",
       "      <td>15</td>\n",
       "      <td>43</td>\n",
       "      <td>101.19</td>\n",
       "      <td>3</td>\n",
       "      <td>0</td>\n",
       "      <td>5</td>\n",
       "      <td>242</td>\n",
       "      <td>False</td>\n",
       "      <td>Unsubscribed</td>\n",
       "      <td>False</td>\n",
       "    </tr>\n",
       "  </tbody>\n",
       "</table>\n",
       "</div>"
      ],
      "text/plain": [
       "   Customer_ID  Age Gender  Annual_Income  Total_Spend  Years_as_Customer  \\\n",
       "0            1   62  Other          45.15      5892.58                  5   \n",
       "1            2   65   Male          79.51      9025.47                 13   \n",
       "2            3   18   Male          29.19       618.83                 13   \n",
       "3            4   21  Other          79.63      9110.30                  3   \n",
       "4            5   21  Other          77.66      5390.88                 15   \n",
       "\n",
       "   Num_of_Purchases  Average_Transaction_Amount  Num_of_Returns  \\\n",
       "0                22                      453.80               2   \n",
       "1                77                       22.90               2   \n",
       "2                71                       50.53               5   \n",
       "3                33                      411.83               5   \n",
       "4                43                      101.19               3   \n",
       "\n",
       "   Num_of_Support_Contacts  Satisfaction_Score  Last_Purchase_Days_Ago  \\\n",
       "0                        0                   3                     129   \n",
       "1                        2                   3                     227   \n",
       "2                        2                   2                     283   \n",
       "3                        3                   5                     226   \n",
       "4                        0                   5                     242   \n",
       "\n",
       "   Email_Opt_In Promotion_Response  Target_Churn  \n",
       "0          True          Responded          True  \n",
       "1         False          Responded         False  \n",
       "2         False          Responded          True  \n",
       "3          True            Ignored          True  \n",
       "4         False       Unsubscribed         False  "
      ]
     },
     "execution_count": 16,
     "metadata": {},
     "output_type": "execute_result"
    }
   ],
   "source": [
    "customer_data = pd.read_csv(os.path.join(\"datasets\",\"customer_churn\",\"online_retail_customer_churn.csv\"))\n",
    "customer_data.head(5)"
   ]
  },
  {
   "cell_type": "code",
   "execution_count": 17,
   "metadata": {},
   "outputs": [
    {
     "name": "stdout",
     "output_type": "stream",
     "text": [
      "<class 'pandas.core.frame.DataFrame'>\n",
      "RangeIndex: 1000 entries, 0 to 999\n",
      "Data columns (total 15 columns):\n",
      " #   Column                      Non-Null Count  Dtype  \n",
      "---  ------                      --------------  -----  \n",
      " 0   Customer_ID                 1000 non-null   int64  \n",
      " 1   Age                         1000 non-null   int64  \n",
      " 2   Gender                      1000 non-null   object \n",
      " 3   Annual_Income               1000 non-null   float64\n",
      " 4   Total_Spend                 1000 non-null   float64\n",
      " 5   Years_as_Customer           1000 non-null   int64  \n",
      " 6   Num_of_Purchases            1000 non-null   int64  \n",
      " 7   Average_Transaction_Amount  1000 non-null   float64\n",
      " 8   Num_of_Returns              1000 non-null   int64  \n",
      " 9   Num_of_Support_Contacts     1000 non-null   int64  \n",
      " 10  Satisfaction_Score          1000 non-null   int64  \n",
      " 11  Last_Purchase_Days_Ago      1000 non-null   int64  \n",
      " 12  Email_Opt_In                1000 non-null   bool   \n",
      " 13  Promotion_Response          1000 non-null   object \n",
      " 14  Target_Churn                1000 non-null   bool   \n",
      "dtypes: bool(2), float64(3), int64(8), object(2)\n",
      "memory usage: 103.6+ KB\n"
     ]
    }
   ],
   "source": [
    "customer_data.info()"
   ]
  },
  {
   "cell_type": "code",
   "execution_count": 18,
   "metadata": {},
   "outputs": [
    {
     "data": {
      "text/html": [
       "<div>\n",
       "<style scoped>\n",
       "    .dataframe tbody tr th:only-of-type {\n",
       "        vertical-align: middle;\n",
       "    }\n",
       "\n",
       "    .dataframe tbody tr th {\n",
       "        vertical-align: top;\n",
       "    }\n",
       "\n",
       "    .dataframe thead th {\n",
       "        text-align: right;\n",
       "    }\n",
       "</style>\n",
       "<table border=\"1\" class=\"dataframe\">\n",
       "  <thead>\n",
       "    <tr style=\"text-align: right;\">\n",
       "      <th></th>\n",
       "      <th>Customer_ID</th>\n",
       "      <th>Age</th>\n",
       "      <th>Annual_Income</th>\n",
       "      <th>Total_Spend</th>\n",
       "      <th>Years_as_Customer</th>\n",
       "      <th>Num_of_Purchases</th>\n",
       "      <th>Average_Transaction_Amount</th>\n",
       "      <th>Num_of_Returns</th>\n",
       "      <th>Num_of_Support_Contacts</th>\n",
       "      <th>Satisfaction_Score</th>\n",
       "      <th>Last_Purchase_Days_Ago</th>\n",
       "    </tr>\n",
       "  </thead>\n",
       "  <tbody>\n",
       "    <tr>\n",
       "      <th>count</th>\n",
       "      <td>1000.000000</td>\n",
       "      <td>1000.000000</td>\n",
       "      <td>1000.000000</td>\n",
       "      <td>1000.00000</td>\n",
       "      <td>1000.000000</td>\n",
       "      <td>1000.000000</td>\n",
       "      <td>1000.000000</td>\n",
       "      <td>1000.000000</td>\n",
       "      <td>1000.000000</td>\n",
       "      <td>1000.000000</td>\n",
       "      <td>1000.000000</td>\n",
       "    </tr>\n",
       "    <tr>\n",
       "      <th>mean</th>\n",
       "      <td>500.500000</td>\n",
       "      <td>43.267000</td>\n",
       "      <td>111.962960</td>\n",
       "      <td>5080.79265</td>\n",
       "      <td>9.727000</td>\n",
       "      <td>49.456000</td>\n",
       "      <td>266.876530</td>\n",
       "      <td>4.612000</td>\n",
       "      <td>1.934000</td>\n",
       "      <td>2.974000</td>\n",
       "      <td>182.890000</td>\n",
       "    </tr>\n",
       "    <tr>\n",
       "      <th>std</th>\n",
       "      <td>288.819436</td>\n",
       "      <td>15.242311</td>\n",
       "      <td>52.844111</td>\n",
       "      <td>2862.12335</td>\n",
       "      <td>5.536346</td>\n",
       "      <td>28.543595</td>\n",
       "      <td>145.873445</td>\n",
       "      <td>2.896869</td>\n",
       "      <td>1.402716</td>\n",
       "      <td>1.391855</td>\n",
       "      <td>104.391319</td>\n",
       "    </tr>\n",
       "    <tr>\n",
       "      <th>min</th>\n",
       "      <td>1.000000</td>\n",
       "      <td>18.000000</td>\n",
       "      <td>20.010000</td>\n",
       "      <td>108.94000</td>\n",
       "      <td>1.000000</td>\n",
       "      <td>1.000000</td>\n",
       "      <td>10.460000</td>\n",
       "      <td>0.000000</td>\n",
       "      <td>0.000000</td>\n",
       "      <td>1.000000</td>\n",
       "      <td>1.000000</td>\n",
       "    </tr>\n",
       "    <tr>\n",
       "      <th>25%</th>\n",
       "      <td>250.750000</td>\n",
       "      <td>30.000000</td>\n",
       "      <td>67.800000</td>\n",
       "      <td>2678.67500</td>\n",
       "      <td>5.000000</td>\n",
       "      <td>25.000000</td>\n",
       "      <td>139.682500</td>\n",
       "      <td>2.000000</td>\n",
       "      <td>1.000000</td>\n",
       "      <td>2.000000</td>\n",
       "      <td>93.000000</td>\n",
       "    </tr>\n",
       "    <tr>\n",
       "      <th>50%</th>\n",
       "      <td>500.500000</td>\n",
       "      <td>43.000000</td>\n",
       "      <td>114.140000</td>\n",
       "      <td>4986.19500</td>\n",
       "      <td>9.000000</td>\n",
       "      <td>49.000000</td>\n",
       "      <td>270.100000</td>\n",
       "      <td>5.000000</td>\n",
       "      <td>2.000000</td>\n",
       "      <td>3.000000</td>\n",
       "      <td>180.500000</td>\n",
       "    </tr>\n",
       "    <tr>\n",
       "      <th>75%</th>\n",
       "      <td>750.250000</td>\n",
       "      <td>56.000000</td>\n",
       "      <td>158.452500</td>\n",
       "      <td>7606.47000</td>\n",
       "      <td>14.000000</td>\n",
       "      <td>74.000000</td>\n",
       "      <td>401.602500</td>\n",
       "      <td>7.000000</td>\n",
       "      <td>3.000000</td>\n",
       "      <td>4.000000</td>\n",
       "      <td>274.000000</td>\n",
       "    </tr>\n",
       "    <tr>\n",
       "      <th>max</th>\n",
       "      <td>1000.000000</td>\n",
       "      <td>69.000000</td>\n",
       "      <td>199.730000</td>\n",
       "      <td>9999.64000</td>\n",
       "      <td>19.000000</td>\n",
       "      <td>99.000000</td>\n",
       "      <td>499.570000</td>\n",
       "      <td>9.000000</td>\n",
       "      <td>4.000000</td>\n",
       "      <td>5.000000</td>\n",
       "      <td>364.000000</td>\n",
       "    </tr>\n",
       "  </tbody>\n",
       "</table>\n",
       "</div>"
      ],
      "text/plain": [
       "       Customer_ID          Age  Annual_Income  Total_Spend  \\\n",
       "count  1000.000000  1000.000000    1000.000000   1000.00000   \n",
       "mean    500.500000    43.267000     111.962960   5080.79265   \n",
       "std     288.819436    15.242311      52.844111   2862.12335   \n",
       "min       1.000000    18.000000      20.010000    108.94000   \n",
       "25%     250.750000    30.000000      67.800000   2678.67500   \n",
       "50%     500.500000    43.000000     114.140000   4986.19500   \n",
       "75%     750.250000    56.000000     158.452500   7606.47000   \n",
       "max    1000.000000    69.000000     199.730000   9999.64000   \n",
       "\n",
       "       Years_as_Customer  Num_of_Purchases  Average_Transaction_Amount  \\\n",
       "count        1000.000000       1000.000000                 1000.000000   \n",
       "mean            9.727000         49.456000                  266.876530   \n",
       "std             5.536346         28.543595                  145.873445   \n",
       "min             1.000000          1.000000                   10.460000   \n",
       "25%             5.000000         25.000000                  139.682500   \n",
       "50%             9.000000         49.000000                  270.100000   \n",
       "75%            14.000000         74.000000                  401.602500   \n",
       "max            19.000000         99.000000                  499.570000   \n",
       "\n",
       "       Num_of_Returns  Num_of_Support_Contacts  Satisfaction_Score  \\\n",
       "count     1000.000000              1000.000000         1000.000000   \n",
       "mean         4.612000                 1.934000            2.974000   \n",
       "std          2.896869                 1.402716            1.391855   \n",
       "min          0.000000                 0.000000            1.000000   \n",
       "25%          2.000000                 1.000000            2.000000   \n",
       "50%          5.000000                 2.000000            3.000000   \n",
       "75%          7.000000                 3.000000            4.000000   \n",
       "max          9.000000                 4.000000            5.000000   \n",
       "\n",
       "       Last_Purchase_Days_Ago  \n",
       "count             1000.000000  \n",
       "mean               182.890000  \n",
       "std                104.391319  \n",
       "min                  1.000000  \n",
       "25%                 93.000000  \n",
       "50%                180.500000  \n",
       "75%                274.000000  \n",
       "max                364.000000  "
      ]
     },
     "execution_count": 18,
     "metadata": {},
     "output_type": "execute_result"
    }
   ],
   "source": [
    "customer_data.describe()"
   ]
  },
  {
   "cell_type": "code",
   "execution_count": 19,
   "metadata": {},
   "outputs": [
    {
     "data": {
      "text/html": [
       "<div>\n",
       "<style scoped>\n",
       "    .dataframe tbody tr th:only-of-type {\n",
       "        vertical-align: middle;\n",
       "    }\n",
       "\n",
       "    .dataframe tbody tr th {\n",
       "        vertical-align: top;\n",
       "    }\n",
       "\n",
       "    .dataframe thead th {\n",
       "        text-align: right;\n",
       "    }\n",
       "</style>\n",
       "<table border=\"1\" class=\"dataframe\">\n",
       "  <thead>\n",
       "    <tr style=\"text-align: right;\">\n",
       "      <th></th>\n",
       "      <th>Gender</th>\n",
       "      <th>Promotion_Response</th>\n",
       "    </tr>\n",
       "  </thead>\n",
       "  <tbody>\n",
       "    <tr>\n",
       "      <th>count</th>\n",
       "      <td>1000</td>\n",
       "      <td>1000</td>\n",
       "    </tr>\n",
       "    <tr>\n",
       "      <th>unique</th>\n",
       "      <td>3</td>\n",
       "      <td>3</td>\n",
       "    </tr>\n",
       "    <tr>\n",
       "      <th>top</th>\n",
       "      <td>Female</td>\n",
       "      <td>Unsubscribed</td>\n",
       "    </tr>\n",
       "    <tr>\n",
       "      <th>freq</th>\n",
       "      <td>342</td>\n",
       "      <td>361</td>\n",
       "    </tr>\n",
       "  </tbody>\n",
       "</table>\n",
       "</div>"
      ],
      "text/plain": [
       "        Gender Promotion_Response\n",
       "count     1000               1000\n",
       "unique       3                  3\n",
       "top     Female       Unsubscribed\n",
       "freq       342                361"
      ]
     },
     "execution_count": 19,
     "metadata": {},
     "output_type": "execute_result"
    }
   ],
   "source": [
    "customer_data.describe(include = \"object\")"
   ]
  },
  {
   "cell_type": "code",
   "execution_count": 20,
   "metadata": {},
   "outputs": [],
   "source": [
    "# Dropped customer ID as it should have no effect on target_churn\n",
    "X, y = customer_data[[\"Age\", \"Annual_Income\", \"Total_Spend\", \"Years_as_Customer\", \"Num_of_Purchases\", \"Average_Transaction_Amount\", \"Num_of_Returns\",\n",
    "                      \"Num_of_Support_Contacts\", \"Satisfaction_Score\", \"Last_Purchase_Days_Ago\", \n",
    "                      \"Email_Opt_In\", \"Promotion_Response\"]], customer_data[[\"Target_Churn\"]] # setting features and dependent variable"
   ]
  },
  {
   "cell_type": "code",
   "execution_count": 21,
   "metadata": {},
   "outputs": [],
   "source": [
    "X_train, X_test, y_train, y_test = train_test_split(X, y, test_size=0.2, random_state=42)"
   ]
  },
  {
   "cell_type": "code",
   "execution_count": 22,
   "metadata": {},
   "outputs": [],
   "source": [
    "from sklearn.compose import ColumnTransformer\n",
    "from sklearn.pipeline import Pipeline\n",
    "from sklearn.preprocessing import OneHotEncoder\n",
    "import numpy as np\n",
    "\n",
    "\n",
    "# Identifying numerical and categorical columns\n",
    "numerical_cols = [\"Age\", \"Annual_Income\", \"Total_Spend\", \"Years_as_Customer\", \n",
    "                  \"Num_of_Purchases\", \"Average_Transaction_Amount\", \"Num_of_Returns\",\n",
    "                  \"Num_of_Support_Contacts\", \"Satisfaction_Score\", \n",
    "                  \"Last_Purchase_Days_Ago\", \"Email_Opt_In\"] #All numerical Data\n",
    "categorical_cols = [\"Promotion_Response\"]  # All categorical data\n",
    "\n",
    "preprocessor = ColumnTransformer( # Defining the preprocessing for numerical and categorical data\n",
    "    transformers=[\n",
    "        ('num', StandardScaler(), numerical_cols),\n",
    "        ('cat', OneHotEncoder(), categorical_cols)\n",
    "    ])\n",
    "\n",
    "pipeline = Pipeline(steps=[('preprocessor', preprocessor)])\n",
    "\n",
    "X_train_tr = pipeline.fit_transform(X_train) # Using pipeline on X_train\n",
    "\n",
    "y_train_tr = np.ravel(y_train)  # Turning y_train to the correct dimensions\n",
    "encoder = LabelEncoder()  # Instantiate the encoder\n",
    "y_train_tr = encoder.fit_transform(y_train_tr)  # Transform y_train"
   ]
  },
  {
   "cell_type": "code",
   "execution_count": 23,
   "metadata": {},
   "outputs": [
    {
     "name": "stdout",
     "output_type": "stream",
     "text": [
      "Best Parameter: {'C': 1}\n"
     ]
    },
    {
     "data": {
      "image/png": "[encoded data removed]",
      "text/plain": [
       "<Figure size 800x550 with 1 Axes>"
      ]
     },
     "metadata": {},
     "output_type": "display_data"
    }
   ],
   "source": [
    "log_reg = LogisticRegression(solver=\"liblinear\", random_state=42) # Instantiating Log Reg\n",
    "param_grid = { 'C': [0.001, 0.01, 1, 10, 50, 100] } # creating a set \n",
    "sgd_clf = GridSearchCV(log_reg, param_grid, cv=5, scoring='accuracy')\n",
    "sgd_clf.fit(X_train_tr, y_train_tr) # Fitting logistic regression with best parameter\n",
    "\n",
    "C_log = sgd_clf.best_params_ # finding best param\n",
    "plot_score(sgd_clf, 'C') # plotting with best param\n",
    "print(\"Best Parameter:\", C_log) # printing the best param\n",
    "y_pred_log = sgd_clf.predict(X_train_tr) # getting the predicted y value for F1 score"
   ]
  },
  {
   "cell_type": "code",
   "execution_count": 24,
   "metadata": {},
   "outputs": [
    {
     "name": "stdout",
     "output_type": "stream",
     "text": [
      "Best Parameter: {'min_samples_leaf': 11}\n"
     ]
    },
    {
     "data": {
      "image/png": "[encoded data removed]",
      "text/plain": [
       "<Figure size 800x550 with 1 Axes>"
      ]
     },
     "metadata": {},
     "output_type": "display_data"
    }
   ],
   "source": [
    "rfc = RandomForestClassifier(random_state=42) # Instantiating Log Reg\n",
    "param_grid = { 'min_samples_leaf': [1, 2, 3, 4, 5, 6, 7, 8, 9, 10, 11, 12, 13, 14, 15, 16, 17] } # creating a set \n",
    "forest_clf = GridSearchCV(rfc, param_grid, cv=5, scoring='accuracy')\n",
    "forest_clf.fit(X_train_tr, y_train_tr) # Fitting logistic regression with best parameter\n",
    "\n",
    "min_samples = forest_clf.best_params_ # finding best param\n",
    "plot_score(forest_clf, 'min_samples_leaf') # plotting with best param\n",
    "y_pred_forest = forest_clf.predict(X_train_tr) # getting the predicted y value for F1 score\n",
    "print(\"Best Parameter:\", min_samples) # printing the best param"
   ]
  },
  {
   "cell_type": "markdown",
   "metadata": {},
   "source": [
    "Which of the ML systems you tried out will you use for the final evaluation? Why?\n",
    "\n",
    "I chose the Random Forest Classifier because it was the best performing classifier in the first part so thought it would also be decent to use in this stage of the lab. "
   ]
  },
  {
   "cell_type": "markdown",
   "metadata": {},
   "source": [
    "## Part 2-3: Evaluate ML System\n",
    "Write the code to evaluate your ML system."
   ]
  },
  {
   "cell_type": "code",
   "execution_count": 26,
   "metadata": {},
   "outputs": [
    {
     "name": "stdout",
     "output_type": "stream",
     "text": [
      "Best Score: 0.5199999999999999\n",
      "F1 Score: 0.8725798517611103\n"
     ]
    }
   ],
   "source": [
    "print(\"Best Score:\", forest_clf.best_score_) # printing best score\n",
    "print(\"F1 Score:\", f1_score(y_train_tr, y_pred_forest, average=\"weighted\")) # finding and printing the F1 score for Forest Classifier"
   ]
  },
  {
   "cell_type": "markdown",
   "metadata": {},
   "source": [
    "Write a brief summary about the ML system that you created for your dataset. What worked well and what would you improve in the future?\n",
    "\n",
    "For the dataset I seleceted, my system starts by uploading the dataset, and then prints key information for the viewer to understand the data. I then dropped the customer_id column because it has no effect on customer churn. I then added the rest of the data into two arrays (X) containing the features and (y) containing the dependent variable. Then the system seperate the data into test and train and gets fed to the pipeline which encodes strings and scales numerical data. The transformed data is fed to the Random Forest Classifier and Logistic Regression Classifier both using GridCV to find their best parameters. The ML System was then trained with the best parameters in place and Random Forest Classifier was evaluated. \n",
    "\n",
    "The features seem to have not much effect on customer churn as the accuracy was very low but had a great F1 score.\n",
    "\n",
    "In the future I would have tried several other ML systems and test them in the moment to see the best fit for the data, instead of blindly choosing Random Forest Classifier based on another's data performance. Also I saw Kaggle gives used projects and ratings of the data before you use it for your own purposes, I would like to look more into these ratings before choosing a dataset. "
   ]
  }
 ],
 "metadata": {
  "kernelspec": {
   "display_name": "Python 3 (ipykernel)",
   "language": "python",
   "name": "python3"
  },
  "language_info": {
   "codemirror_mode": {
    "name": "ipython",
    "version": 3
   },
   "file_extension": ".py",
   "mimetype": "text/x-python",
   "name": "python",
   "nbconvert_exporter": "python",
   "pygments_lexer": "ipython3",
   "version": "3.12.2"
  }
 },
 "nbformat": 4,
 "nbformat_minor": 4
}
